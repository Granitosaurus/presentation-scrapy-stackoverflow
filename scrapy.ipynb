{
 "cells": [
  {
   "cell_type": "raw",
   "metadata": {},
   "source": [
    "// disable code in print/present mode\n",
    "<script>\n",
    "  function code_toggle() {\n",
    "    if (code_shown){\n",
    "      $('div.input').hide('500');\n",
    "      $('#toggleButton').val('Show Code')\n",
    "    } else {\n",
    "      $('div.input').show('500');\n",
    "      $('#toggleButton').val('Hide Code')\n",
    "    }\n",
    "    code_shown = !code_shown\n",
    "  }\n",
    "\n",
    "  $( document ).ready(function(){\n",
    "    code_shown=false;\n",
    "    $('div.input').hide()\n",
    "  });\n",
    "</script>\n",
    "<form action=\"javascript:code_toggle()\"><input type=\"submit\" id=\"toggleButton\" value=\"Show Code\"></form>"
   ]
  },
  {
   "cell_type": "code",
   "execution_count": 480,
   "metadata": {
    "collapsed": false
   },
   "outputs": [],
   "source": [
    "import json\n",
    "import matplotlib.pyplot as plt\n",
    "%matplotlib inline\n",
    "filename = 'scrapy.json'\n",
    "with open('scrapy.json', 'r') as f:\n",
    "    questions = json.loads(f.read())\n",
    "with open('nutch.json', 'r') as f:\n",
    "    questions_nutch = json.loads(f.read())"
   ]
  },
  {
   "cell_type": "code",
   "execution_count": 481,
   "metadata": {
    "collapsed": false
   },
   "outputs": [],
   "source": [
    "# common functions\n",
    "from statistics import mean, median\n",
    "def inspect_votes(qs):\n",
    "    print('[Votes]')\n",
    "    votes = [q['score'] for q in qs]\n",
    "    print('  votes sum      : ', sum(votes))\n",
    "    print('  votes mean     :  {:.2f}'.format(mean(votes)))\n",
    "    print('  total questions:  ', len(qs))\n",
    "def inspect_questions(qs, vs_all=False, owner=False, answer=True):\n",
    "    answered = [q for q in qs if q['is_answered']]\n",
    "    prc = lambda v, total: len(v) * 100 / len(total)\n",
    "    print('[Questions]')\n",
    "    print('  total questions:  ', len(qs))\n",
    "    if answer:\n",
    "        print('  % answered     :  {:.2f}'.format(prc(answered, qs)))\n",
    "        score0 = [q for q in qs if q['score'] == 0]\n",
    "        print('  % 0 score      :  {:.2f}'.format(prc(score0, qs)))\n",
    "        score0_answered = [q for q in answered if q['score'] == 0]\n",
    "        print('    of answered  :  {:.2f}'.format(prc(score0_answered, answered)))\n",
    "    if vs_all:\n",
    "        print('compared to all questions:')\n",
    "        print('  total             :', '{}/{}'.format(len(qs), len(questions)))\n",
    "        print('  % of all questions: {:.2f}'.format(prc(qs, questions)))\n",
    "    if owner:\n",
    "        print('question owner data:')\n",
    "        from datetime import datetime\n",
    "        qs_with_time = [q for q in qs if q['owner'].get('creation_date')]\n",
    "        times = []\n",
    "        for q in qs_with_time:\n",
    "            owner = datetime.fromtimestamp(q['owner']['creation_date'])\n",
    "            qdate = datetime.fromtimestamp(q['creation_date'])\n",
    "            time = qdate - owner\n",
    "            times.append(time.days)\n",
    "        print('  average asker account age: {:.2f} days'.format(mean(times)))\n",
    "        print('  median: {:.2f} days'.format(median(times)))"
   ]
  },
  {
   "cell_type": "markdown",
   "metadata": {},
   "source": [
    "# General [scrapy] info"
   ]
  },
  {
   "cell_type": "code",
   "execution_count": 482,
   "metadata": {
    "collapsed": false,
    "scrolled": true
   },
   "outputs": [
    {
     "name": "stdout",
     "output_type": "stream",
     "text": [
      "[Questions]\n",
      "  total questions:   6314\n",
      "  % answered     :  68.69\n",
      "  % 0 score      :  43.66\n",
      "    of answered  :  36.38\n",
      "question owner data:\n",
      "  average asker account age: 472.29 days\n",
      "  median: 298.00 days\n",
      "[Votes]\n",
      "  votes sum      :  8054\n",
      "  votes mean     :  1.28\n",
      "  total questions:   6314\n",
      "[Other]\n",
      "* First question asked on 2009-06-29 05:09:33\n"
     ]
    }
   ],
   "source": [
    "inspect_questions(questions, owner=True)\n",
    "inspect_votes(questions)\n",
    "first = sorted(questions, key=lambda v: v['creation_date'])[0]\n",
    "print('[Other]')\n",
    "print('* First question asked on', datetime.fromtimestamp(first['creation_date']))\n"
   ]
  },
  {
   "cell_type": "markdown",
   "metadata": {},
   "source": [
    "- answered ratio appears to be small but for stackoverflow it's usual\n",
    "    - actually is really high for SO standards \n",
    "    - \\+ hard to ask generic questions for scrapy\n",
    "- a lot of questions with score 0\n",
    "- a lot of answered questions with score 0 too\n",
    "- low mean of questions"
   ]
  },
  {
   "cell_type": "code",
   "execution_count": 483,
   "metadata": {
    "collapsed": false,
    "scrolled": true
   },
   "outputs": [
    {
     "name": "stdout",
     "output_type": "stream",
     "text": [
      "Apache Nutch - scrapy competitor's info:\n",
      "[Questions]\n",
      "  total questions:   1198\n",
      "  % answered     :  55.59\n",
      "  % 0 score      :  54.59\n",
      "    of answered  :  48.80\n",
      "question owner data:\n",
      "  average asker account age: 414.23 days\n",
      "  median: 240.00 days\n",
      "[Votes]\n",
      "  votes sum      :  963\n",
      "  votes mean     :  0.80\n",
      "  total questions:   1198\n",
      "[Other]\n",
      "* First question asked on 2008-10-15 12:27:12\n"
     ]
    }
   ],
   "source": [
    "print(\"Apache Nutch - scrapy competitor's info:\")\n",
    "inspect_questions(questions_nutch, owner=True)\n",
    "inspect_votes(questions_nutch)\n",
    "first = sorted(questions_nutch, key=lambda v: v['creation_date'])[0]\n",
    "print('[Other]')\n",
    "print('* First question asked on', datetime.fromtimestamp(first['creation_date']))"
   ]
  },
  {
   "cell_type": "markdown",
   "metadata": {},
   "source": [
    "- scrapy 2008(v.1 2015) vs nutch 2010 (v.1.1)\n",
    "- scrapy is more popular"
   ]
  },
  {
   "cell_type": "markdown",
   "metadata": {},
   "source": [
    "# Specific Questions"
   ]
  },
  {
   "cell_type": "markdown",
   "metadata": {},
   "source": [
    "### CrawlSpider questions"
   ]
  },
  {
   "cell_type": "code",
   "execution_count": 484,
   "metadata": {
    "collapsed": false
   },
   "outputs": [
    {
     "name": "stdout",
     "output_type": "stream",
     "text": [
      "CrawlSpider questions:\n",
      "---------\n",
      "[Questions]\n",
      "  total questions:   995\n",
      "  % answered     :  69.45\n",
      "  % 0 score      :  41.51\n",
      "    of answered  :  33.57\n",
      "compared to all questions:\n",
      "  total             : 995/6314\n",
      "  % of all questions: 15.76\n",
      "question owner data:\n",
      "  average asker account age: 396.04 days\n",
      "  median: 222.00 days\n",
      "\n",
      "scrapy.Spider questions\n",
      "---------\n",
      "[Questions]\n",
      "  total questions:   1438\n",
      "  % answered     :  64.74\n",
      "  % 0 score      :  46.80\n",
      "    of answered  :  38.99\n",
      "compared to all questions:\n",
      "  total             : 1438/6314\n",
      "  % of all questions: 22.77\n",
      "\n",
      "Sitemap spiders:\n",
      "---------\n",
      "[Questions]\n",
      "  total questions:   20\n",
      "  % answered     :  55.00\n",
      "  % 0 score      :  30.00\n",
      "    of answered  :  18.18\n",
      "compared to all questions:\n",
      "  total             : 20/6314\n",
      "  % of all questions: 0.32\n"
     ]
    }
   ],
   "source": [
    "print('CrawlSpider questions:\\n---------')\n",
    "crawl_questions = [q for q in questions if 'CrawlSpider' in q['body']]\n",
    "inspect_questions(crawl_questions, vs_all=True, owner=True)\n",
    "print('\\nscrapy.Spider questions\\n---------')\n",
    "import re\n",
    "re_spider = re.compile(r'(?:\\b|\\.)Spider\\b')\n",
    "spider_questions = [q for q in questions if re_spider.search(q['body'])]\n",
    "inspect_questions(spider_questions, vs_all=True)\n",
    "print('\\nSitemap spiders:\\n---------')\n",
    "sitemap_questions = [q for q in questions if 'SitemapSpider' in q['body']]\n",
    "inspect_questions(sitemap_questions, vs_all=True)\n"
   ]
  },
  {
   "cell_type": "markdown",
   "metadata": {},
   "source": [
    "- CrawlSpider is very popular, compared to base Spider it's 1:2\n",
    "    - or that CrawlSpider raises a lot of questions\n",
    "- Other Spiders (like Sitemap) are not popular at all :(\n"
   ]
  },
  {
   "cell_type": "markdown",
   "metadata": {},
   "source": [
    "### AJAX and Selenium related questions"
   ]
  },
  {
   "cell_type": "code",
   "execution_count": 485,
   "metadata": {
    "collapsed": false
   },
   "outputs": [
    {
     "name": "stdout",
     "output_type": "stream",
     "text": [
      "Questions with ajax in body\n",
      "[Questions]\n",
      "  total questions:   133\n",
      "compared to all questions:\n",
      "  total             : 133/6314\n",
      "  % of all questions: 2.11\n",
      "\n",
      "Questions with ajax in answer\n",
      "[Questions]\n",
      "  total questions:   122\n",
      "compared to all questions:\n",
      "  total             : 122/6314\n",
      "  % of all questions: 1.93\n",
      "\n",
      "Questions with javascript in answer\n",
      "[Questions]\n",
      "  total questions:   235\n",
      "compared to all questions:\n",
      "  total             : 235/6314\n",
      "  % of all questions: 3.72\n",
      "\n",
      "Questions with selenium in answer\n",
      "[Questions]\n",
      "  total questions:   192\n",
      "compared to all questions:\n",
      "  total             : 192/6314\n",
      "  % of all questions: 3.04\n"
     ]
    }
   ],
   "source": [
    "import re\n",
    "re_ajax = re.compile(r'\\bajax\\b', flags=re.I)\n",
    "re_js = re.compile(r'\\bjavascript\\b', flags=re.I)\n",
    "re_selenium = re.compile(r'\\bselenium\\b', flags=re.I)\n",
    "\n",
    "print('Questions with ajax in body')\n",
    "qs = [q for q in questions if re_ajax.search(q['body'])]\n",
    "inspect_questions(qs, vs_all=True, answer=False)\n",
    "\n",
    "print('\\nQuestions with ajax in answer')\n",
    "in_answer = [q for q in questions \n",
    "             if re_ajax.search(''.join([a['body'] for a in q.get('answers', [{'body': ''}])]))]\n",
    "inspect_questions(in_answer, vs_all=True, answer=False)\n",
    "\n",
    "print('\\nQuestions with javascript in answer')\n",
    "in_answer_js = [q for q in questions\n",
    "               if re_js.search(q.get('answers', [{'body': ''}])[0]['body'])]\n",
    "inspect_questions(in_answer_js, vs_all=True, answer=False)\n",
    "\n",
    "print('\\nQuestions with selenium in answer')\n",
    "in_answer_selenium = [q for q in questions\n",
    "               if re_selenium.search(q.get('answers', [{'body': ''}])[0]['body'])]\n",
    "inspect_questions(in_answer_selenium, vs_all=True, answer=False)"
   ]
  },
  {
   "cell_type": "markdown",
   "metadata": {},
   "source": [
    "- very few questions related to AJAX (or so it appears to be)\n",
    "- top 5 contains"
   ]
  },
  {
   "cell_type": "markdown",
   "metadata": {},
   "source": [
    "## Inspecting related tags"
   ]
  },
  {
   "cell_type": "code",
   "execution_count": 486,
   "metadata": {
    "collapsed": false
   },
   "outputs": [
    {
     "name": "stdout",
     "output_type": "stream",
     "text": [
      "Total tags: 871\n",
      "Tag %     : \n",
      "  web-scraping    22\n",
      "  web-crawler     14\n",
      "  xpath           13\n",
      "  scrapy-spider   12\n",
      "  python-2.7      10\n",
      "  html            4\n",
      "  selenium        3\n",
      "  regex           3\n",
      "  django          3\n",
      "  scrapyd         3\n"
     ]
    }
   ],
   "source": [
    "questions = questions\n",
    "tags = [q['tags'] for q in questions]\n",
    "tags = [el for t in tags for el in t]\n",
    "import math\n",
    "# counting tags\n",
    "from collections import Counter\n",
    "counter = Counter(tags)\n",
    "del counter['scrapy']\n",
    "del counter['python']\n",
    "items = [(k,int(v)) for k,v in counter.items()]\n",
    "items = [(k, math.ceil(v*100/len(questions))) for k,v in items]\n",
    "items = sorted(items, key=lambda v: v[1], reverse=True)\n",
    "# combine lowest\n",
    "lowest = min(el[1] for el in items)\n",
    "items = [(k, v) for k,v in items if v != lowest]\n",
    "items.append(('other', lowest))\n",
    "# printing\n",
    "longest_name = sorted([k[0] for k in items], key=len)[-1]\n",
    "tpl = '  {{:{ln}}} {{}}'.format(ln=len(longest_name))\n",
    "print('Total tags:', len(counter.keys()))\n",
    "print('Tag %     : ')\n",
    "print('\\n'.join([tpl.format(k,v) for k,v in items][:10]))"
   ]
  },
  {
   "cell_type": "code",
   "execution_count": 487,
   "metadata": {
    "collapsed": false
   },
   "outputs": [
    {
     "name": "stdout",
     "output_type": "stream",
     "text": [
      "Visual:\n"
     ]
    },
    {
     "data": {
      "image/png": "[encoded data removed]",
      "text/plain": [
       "<matplotlib.figure.Figure at 0x7f44ebadae80>"
      ]
     },
     "metadata": {},
     "output_type": "display_data"
    }
   ],
   "source": [
    "# paint graph\n",
    "plt.bar(range(len(items)), [i[1] for i in items], align='center')\n",
    "labels = [v[0] for v in items]\n",
    "plt.xticks(range(len(items)), [v[0] for v in items], rotation='vertical')\n",
    "print('Visual:')\n",
    "plt.show()"
   ]
  },
  {
   "cell_type": "markdown",
   "metadata": {
    "collapsed": true
   },
   "source": [
    "**notes:**\n",
    "- Majority of the related tags are very close to web-crawling.\n",
    "- `selenium` is surprisingly high at 8%.\n",
    "- `osx` - mostly about installation difficulties.\n",
    "- `python-3.x` - yay, python 3 adoption! \\o/\n",
    "\n",
    "- Surpsiginly almost no mention of AJAX or related."
   ]
  }
 ],
 "metadata": {
  "kernelspec": {
   "display_name": "Python 3",
   "language": "python",
   "name": "python3"
  },
  "language_info": {
   "codemirror_mode": {
    "name": "ipython",
    "version": 3
   },
   "file_extension": ".py",
   "mimetype": "text/x-python",
   "name": "python",
   "nbconvert_exporter": "python",
   "pygments_lexer": "ipython3",
   "version": "3.5.2"
  }
 },
 "nbformat": 4,
 "nbformat_minor": 0
}
